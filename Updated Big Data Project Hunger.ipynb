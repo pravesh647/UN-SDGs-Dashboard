{
 "cells": [
  {
   "cell_type": "code",
   "execution_count": 1,
   "id": "d9eb9184",
   "metadata": {},
   "outputs": [],
   "source": [
    "import pandas as pd\n",
    "import numpy as np\n",
    "import matplotlib.pyplot as plt\n",
    "import requests\n",
    "import streamlit as st\n",
    "from pandas_datareader import wb\n",
    "pd.set_option('display.max_rows', 6)"
   ]
  },
  {
   "cell_type": "code",
   "execution_count": 2,
   "id": "e632aeef",
   "metadata": {},
   "outputs": [],
   "source": [
    "undernourishment=\"SN.ITK.DEFC.ZS\"\n",
    "mortalityrate_under5=\"SH.DYN.MORT\"\n",
    "prevalenceunderweight_under5=\"SH.STA.MALN.ZS\"\n",
    "foodproduction=\"AG.PRD.FOOD.XD\"\n",
    "countrieslist = ['SOM', 'YEM', 'CAF', 'TCD', 'COD', 'AUT', 'FRA', 'SWE', 'DNK', 'CHE']"
   ]
  },
  {
   "cell_type": "code",
   "execution_count": 3,
   "id": "ce29ea52",
   "metadata": {},
   "outputs": [
    {
     "data": {
      "text/html": [
       "<div>\n",
       "<style scoped>\n",
       "    .dataframe tbody tr th:only-of-type {\n",
       "        vertical-align: middle;\n",
       "    }\n",
       "\n",
       "    .dataframe tbody tr th {\n",
       "        vertical-align: top;\n",
       "    }\n",
       "\n",
       "    .dataframe thead th {\n",
       "        text-align: right;\n",
       "    }\n",
       "</style>\n",
       "<table border=\"1\" class=\"dataframe\">\n",
       "  <thead>\n",
       "    <tr style=\"text-align: right;\">\n",
       "      <th></th>\n",
       "      <th></th>\n",
       "      <th>SN.ITK.DEFC.ZS</th>\n",
       "    </tr>\n",
       "    <tr>\n",
       "      <th>country</th>\n",
       "      <th>year</th>\n",
       "      <th></th>\n",
       "    </tr>\n",
       "  </thead>\n",
       "  <tbody>\n",
       "    <tr>\n",
       "      <th>Austria</th>\n",
       "      <th>2019</th>\n",
       "      <td>2.5</td>\n",
       "    </tr>\n",
       "    <tr>\n",
       "      <th>Central African Republic</th>\n",
       "      <th>2019</th>\n",
       "      <td>48.2</td>\n",
       "    </tr>\n",
       "    <tr>\n",
       "      <th>Switzerland</th>\n",
       "      <th>2019</th>\n",
       "      <td>2.5</td>\n",
       "    </tr>\n",
       "    <tr>\n",
       "      <th>...</th>\n",
       "      <th>...</th>\n",
       "      <td>...</td>\n",
       "    </tr>\n",
       "    <tr>\n",
       "      <th>Sweden</th>\n",
       "      <th>2019</th>\n",
       "      <td>2.5</td>\n",
       "    </tr>\n",
       "    <tr>\n",
       "      <th>Chad</th>\n",
       "      <th>2019</th>\n",
       "      <td>31.7</td>\n",
       "    </tr>\n",
       "    <tr>\n",
       "      <th>Yemen, Rep.</th>\n",
       "      <th>2019</th>\n",
       "      <td>45.4</td>\n",
       "    </tr>\n",
       "  </tbody>\n",
       "</table>\n",
       "<p>10 rows × 1 columns</p>\n",
       "</div>"
      ],
      "text/plain": [
       "                               SN.ITK.DEFC.ZS\n",
       "country                  year                \n",
       "Austria                  2019             2.5\n",
       "Central African Republic 2019            48.2\n",
       "Switzerland              2019             2.5\n",
       "...                                       ...\n",
       "Sweden                   2019             2.5\n",
       "Chad                     2019            31.7\n",
       "Yemen, Rep.              2019            45.4\n",
       "\n",
       "[10 rows x 1 columns]"
      ]
     },
     "execution_count": 3,
     "metadata": {},
     "output_type": "execute_result"
    }
   ],
   "source": [
    "df1=wb.download(indicator=undernourishment,country=countrieslist, start=\"2019\",end=\"2019\")\n",
    "df2=wb.download(indicator=mortalityrate_under5,country=countrieslist, start=\"2019\",end=\"2019\")\n",
    "df3=wb.download(indicator=prevalenceunderweight_under5,country=countrieslist, start=\"2019\",end=\"2019\")\n",
    "df4=wb.download(indicator=foodproduction,country=countrieslist, start=\"2019\",end=\"2019\")\n",
    "df1"
   ]
  },
  {
   "cell_type": "code",
   "execution_count": 4,
   "id": "72639271",
   "metadata": {},
   "outputs": [],
   "source": [
    "df=df1.merge(df2,on=\"country\").merge(df3,on=\"country\").merge(df4,on=\"country\")"
   ]
  },
  {
   "cell_type": "code",
   "execution_count": 5,
   "id": "fed96c7c",
   "metadata": {},
   "outputs": [
    {
     "data": {
      "text/html": [
       "<div>\n",
       "<style scoped>\n",
       "    .dataframe tbody tr th:only-of-type {\n",
       "        vertical-align: middle;\n",
       "    }\n",
       "\n",
       "    .dataframe tbody tr th {\n",
       "        vertical-align: top;\n",
       "    }\n",
       "\n",
       "    .dataframe thead th {\n",
       "        text-align: right;\n",
       "    }\n",
       "</style>\n",
       "<table border=\"1\" class=\"dataframe\">\n",
       "  <thead>\n",
       "    <tr style=\"text-align: right;\">\n",
       "      <th></th>\n",
       "      <th>Undernourishment %</th>\n",
       "      <th>Mort Rate U5 per 1000 births</th>\n",
       "      <th>% children under 5 underweight</th>\n",
       "      <th>world food production index</th>\n",
       "    </tr>\n",
       "    <tr>\n",
       "      <th>country</th>\n",
       "      <th></th>\n",
       "      <th></th>\n",
       "      <th></th>\n",
       "      <th></th>\n",
       "    </tr>\n",
       "  </thead>\n",
       "  <tbody>\n",
       "    <tr>\n",
       "      <th>Austria</th>\n",
       "      <td>2.5</td>\n",
       "      <td>3.6</td>\n",
       "      <td>NaN</td>\n",
       "      <td>99.949997</td>\n",
       "    </tr>\n",
       "    <tr>\n",
       "      <th>Central African Republic</th>\n",
       "      <td>48.2</td>\n",
       "      <td>106.6</td>\n",
       "      <td>20.5</td>\n",
       "      <td>106.169998</td>\n",
       "    </tr>\n",
       "    <tr>\n",
       "      <th>Switzerland</th>\n",
       "      <td>2.5</td>\n",
       "      <td>4.0</td>\n",
       "      <td>NaN</td>\n",
       "      <td>97.120003</td>\n",
       "    </tr>\n",
       "    <tr>\n",
       "      <th>...</th>\n",
       "      <td>...</td>\n",
       "      <td>...</td>\n",
       "      <td>...</td>\n",
       "      <td>...</td>\n",
       "    </tr>\n",
       "    <tr>\n",
       "      <th>Sweden</th>\n",
       "      <td>2.5</td>\n",
       "      <td>2.7</td>\n",
       "      <td>NaN</td>\n",
       "      <td>100.339996</td>\n",
       "    </tr>\n",
       "    <tr>\n",
       "      <th>Chad</th>\n",
       "      <td>31.7</td>\n",
       "      <td>113.5</td>\n",
       "      <td>29.2</td>\n",
       "      <td>118.320000</td>\n",
       "    </tr>\n",
       "    <tr>\n",
       "      <th>Yemen, Rep.</th>\n",
       "      <td>45.4</td>\n",
       "      <td>61.5</td>\n",
       "      <td>NaN</td>\n",
       "      <td>96.500000</td>\n",
       "    </tr>\n",
       "  </tbody>\n",
       "</table>\n",
       "<p>10 rows × 4 columns</p>\n",
       "</div>"
      ],
      "text/plain": [
       "                          Undernourishment %  Mort Rate U5 per 1000 births  \\\n",
       "country                                                                      \n",
       "Austria                                  2.5                           3.6   \n",
       "Central African Republic                48.2                         106.6   \n",
       "Switzerland                              2.5                           4.0   \n",
       "...                                      ...                           ...   \n",
       "Sweden                                   2.5                           2.7   \n",
       "Chad                                    31.7                         113.5   \n",
       "Yemen, Rep.                             45.4                          61.5   \n",
       "\n",
       "                          % children under 5 underweight  \\\n",
       "country                                                    \n",
       "Austria                                              NaN   \n",
       "Central African Republic                            20.5   \n",
       "Switzerland                                          NaN   \n",
       "...                                                  ...   \n",
       "Sweden                                               NaN   \n",
       "Chad                                                29.2   \n",
       "Yemen, Rep.                                          NaN   \n",
       "\n",
       "                          world food production index  \n",
       "country                                                \n",
       "Austria                                     99.949997  \n",
       "Central African Republic                   106.169998  \n",
       "Switzerland                                 97.120003  \n",
       "...                                               ...  \n",
       "Sweden                                     100.339996  \n",
       "Chad                                       118.320000  \n",
       "Yemen, Rep.                                 96.500000  \n",
       "\n",
       "[10 rows x 4 columns]"
      ]
     },
     "execution_count": 5,
     "metadata": {},
     "output_type": "execute_result"
    }
   ],
   "source": [
    "df.columns=[\"Undernourishment %\", \"Mort Rate U5 per 1000 births\", \"% children under 5 underweight\", \"world food production index\" ]\n",
    "df\n"
   ]
  },
  {
   "cell_type": "code",
   "execution_count": 6,
   "id": "be6c1ed3",
   "metadata": {
    "scrolled": true
   },
   "outputs": [
    {
     "data": {
      "image/png": "[encoded data removed]",
      "text/plain": [
       "<Figure size 432x288 with 1 Axes>"
      ]
     },
     "metadata": {
      "needs_background": "light"
     },
     "output_type": "display_data"
    }
   ],
   "source": [
    "plt.title(\"Undernourishment by % in 2019\")\n",
    "metric1 = df[\"Undernourishment %\"].plot(kind=\"bar\")\n",
    "# The most important most direct measurement of hunger is undernourishment. Undernourishment is measured by the % of the population who receive enough food and nutrients to have healthy bodies. "
   ]
  },
  {
   "cell_type": "code",
   "execution_count": 7,
   "id": "2a5beb9b",
   "metadata": {},
   "outputs": [
    {
     "data": {
      "image/png": "[encoded data removed]",
      "text/plain": [
       "<Figure size 432x288 with 1 Axes>"
      ]
     },
     "metadata": {
      "needs_background": "light"
     },
     "output_type": "display_data"
    }
   ],
   "source": [
    "plt.title(\"Mortality Rate Children Under 5 per 1000 births in 2019\")\n",
    "metric2 = df[\"Mort Rate U5 per 1000 births\"].plot(kind=\"bar\")\n",
    "\n",
    "#The most important most direct measurement of hunger is undernourishment. Undernourishment is measured by the % of the population who receive enough food and nutrients to have healthy bodies. "
   ]
  },
  {
   "cell_type": "code",
   "execution_count": 8,
   "id": "db2504f0",
   "metadata": {},
   "outputs": [
    {
     "data": {
      "image/png": "[encoded data removed]",
      "text/plain": [
       "<Figure size 432x288 with 1 Axes>"
      ]
     },
     "metadata": {
      "needs_background": "light"
     },
     "output_type": "display_data"
    }
   ],
   "source": [
    "plt.title(\"% children under 5 underweight in 2019\")\n",
    "metric3 = df[\"% children under 5 underweight\"].plot(kind=\"bar\")\n",
    "# Mortality rate under 5 % is another fairly good metric because access to food is often a major reason for child mortality along with clean water. "
   ]
  },
  {
   "cell_type": "code",
   "execution_count": 9,
   "id": "74961753",
   "metadata": {},
   "outputs": [
    {
     "data": {
      "image/png": "[encoded data removed]",
      "text/plain": [
       "<Figure size 432x288 with 1 Axes>"
      ]
     },
     "metadata": {
      "needs_background": "light"
     },
     "output_type": "display_data"
    }
   ],
   "source": [
    "plt.title(\"World Food Production Index in 2019\")\n",
    "metric4 = df[\"world food production index\"].plot(kind=\"bar\")\n",
    "# Food production of a country can also be a good measurement of whether a country can feed its citizens. It may also be misleading because there may be propserous countries that import their food but foro ur purposes the data"
   ]
  },
  {
   "cell_type": "code",
   "execution_count": null,
   "id": "3a1843d9-3b68-4ef8-9937-607839ff22d0",
   "metadata": {},
   "outputs": [],
   "source": []
  }
 ],
 "metadata": {
  "kernelspec": {
   "display_name": "Python 3 (ipykernel)",
   "language": "python",
   "name": "python3"
  },
  "language_info": {
   "codemirror_mode": {
    "name": "ipython",
    "version": 3
   },
   "file_extension": ".py",
   "mimetype": "text/x-python",
   "name": "python",
   "nbconvert_exporter": "python",
   "pygments_lexer": "ipython3",
   "version": "3.9.7"
  }
 },
 "nbformat": 4,
 "nbformat_minor": 5
}
