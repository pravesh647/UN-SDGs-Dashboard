{
 "cells": [
  {
   "cell_type": "code",
   "execution_count": 1,
   "id": "d9eb9184",
   "metadata": {},
   "outputs": [],
   "source": [
    "import pandas as pd\n",
    "import numpy as np\n",
    "import matplotlib.pyplot as plt\n",
    "import requests\n",
    "import streamlit as st\n",
    "from pandas_datareader import wb\n",
    "pd.set_option('display.max_rows', 6)"
   ]
  },
  {
   "cell_type": "code",
   "execution_count": 2,
   "id": "e632aeef",
   "metadata": {},
   "outputs": [],
   "source": [
    "undernourishment=\"SN.ITK.DEFC.ZS\"\n",
    "mortalityrate_under5=\"SH.DYN.MORT\"\n",
    "prevalenceunderweight_under5=\"SH.STA.MALN.ZS\"\n",
    "foodproduction=\"AG.PRD.FOOD.XD\"\n",
    "countrieslist = ['BDI', 'BEN', 'BFA', 'BWA', 'CIV', 'CMR', 'COD', 'CPV', 'ETH', 'GHA', 'GIN', 'GMB', 'KEN', 'LBR', 'LSO', 'MDG', 'MLI', 'MOZ', 'MUS', 'MWI', 'NER', 'NGA', 'RWA', 'SEN', 'SLE', 'SOM', 'STP', 'TCD', 'TGO', 'TZA', 'UGA', 'ZAF', 'ZMB', 'ZWE']"
   ]
  },
  {
   "cell_type": "code",
   "execution_count": 3,
   "id": "ce29ea52",
   "metadata": {},
   "outputs": [
    {
     "data": {
      "text/html": [
       "<div>\n",
       "<style scoped>\n",
       "    .dataframe tbody tr th:only-of-type {\n",
       "        vertical-align: middle;\n",
       "    }\n",
       "\n",
       "    .dataframe tbody tr th {\n",
       "        vertical-align: top;\n",
       "    }\n",
       "\n",
       "    .dataframe thead th {\n",
       "        text-align: right;\n",
       "    }\n",
       "</style>\n",
       "<table border=\"1\" class=\"dataframe\">\n",
       "  <thead>\n",
       "    <tr style=\"text-align: right;\">\n",
       "      <th></th>\n",
       "      <th></th>\n",
       "      <th>SN.ITK.DEFC.ZS</th>\n",
       "    </tr>\n",
       "    <tr>\n",
       "      <th>country</th>\n",
       "      <th>year</th>\n",
       "      <th></th>\n",
       "    </tr>\n",
       "  </thead>\n",
       "  <tbody>\n",
       "    <tr>\n",
       "      <th>Burundi</th>\n",
       "      <th>2014</th>\n",
       "      <td>NaN</td>\n",
       "    </tr>\n",
       "    <tr>\n",
       "      <th>Benin</th>\n",
       "      <th>2014</th>\n",
       "      <td>7.5</td>\n",
       "    </tr>\n",
       "    <tr>\n",
       "      <th>Burkina Faso</th>\n",
       "      <th>2014</th>\n",
       "      <td>12.0</td>\n",
       "    </tr>\n",
       "    <tr>\n",
       "      <th>...</th>\n",
       "      <th>...</th>\n",
       "      <td>...</td>\n",
       "    </tr>\n",
       "    <tr>\n",
       "      <th>South Africa</th>\n",
       "      <th>2014</th>\n",
       "      <td>4.8</td>\n",
       "    </tr>\n",
       "    <tr>\n",
       "      <th>Zambia</th>\n",
       "      <th>2014</th>\n",
       "      <td>NaN</td>\n",
       "    </tr>\n",
       "    <tr>\n",
       "      <th>Zimbabwe</th>\n",
       "      <th>2014</th>\n",
       "      <td>NaN</td>\n",
       "    </tr>\n",
       "  </tbody>\n",
       "</table>\n",
       "<p>34 rows × 1 columns</p>\n",
       "</div>"
      ],
      "text/plain": [
       "                   SN.ITK.DEFC.ZS\n",
       "country      year                \n",
       "Burundi      2014             NaN\n",
       "Benin        2014             7.5\n",
       "Burkina Faso 2014            12.0\n",
       "...                           ...\n",
       "South Africa 2014             4.8\n",
       "Zambia       2014             NaN\n",
       "Zimbabwe     2014             NaN\n",
       "\n",
       "[34 rows x 1 columns]"
      ]
     },
     "execution_count": 3,
     "metadata": {},
     "output_type": "execute_result"
    }
   ],
   "source": [
    "df1=wb.download(indicator=undernourishment,country=countrieslist, start=\"2014\",end=\"2014\")\n",
    "df2=wb.download(indicator=mortalityrate_under5,country=countrieslist, start=\"2014\",end=\"2014\")\n",
    "df3=wb.download(indicator=prevalenceunderweight_under5,country=countrieslist, start=\"2014\",end=\"2014\")\n",
    "df4=wb.download(indicator=foodproduction,country=countrieslist, start=\"2014\",end=\"2014\")\n",
    "df1"
   ]
  },
  {
   "cell_type": "code",
   "execution_count": 4,
   "id": "72639271",
   "metadata": {},
   "outputs": [],
   "source": [
    "df=df1.merge(df2,on=\"country\").merge(df3,on=\"country\").merge(df4,on=\"country\")"
   ]
  },
  {
   "cell_type": "code",
   "execution_count": 5,
   "id": "fed96c7c",
   "metadata": {
    "scrolled": false
   },
   "outputs": [
    {
     "data": {
      "text/html": [
       "<div>\n",
       "<style scoped>\n",
       "    .dataframe tbody tr th:only-of-type {\n",
       "        vertical-align: middle;\n",
       "    }\n",
       "\n",
       "    .dataframe tbody tr th {\n",
       "        vertical-align: top;\n",
       "    }\n",
       "\n",
       "    .dataframe thead th {\n",
       "        text-align: right;\n",
       "    }\n",
       "</style>\n",
       "<table border=\"1\" class=\"dataframe\">\n",
       "  <thead>\n",
       "    <tr style=\"text-align: right;\">\n",
       "      <th></th>\n",
       "      <th>Undernourishment %</th>\n",
       "      <th>Mort Rate U5 per 1000 births</th>\n",
       "      <th>% children under 5 underweight</th>\n",
       "      <th>world food production index</th>\n",
       "    </tr>\n",
       "    <tr>\n",
       "      <th>country</th>\n",
       "      <th></th>\n",
       "      <th></th>\n",
       "      <th></th>\n",
       "      <th></th>\n",
       "    </tr>\n",
       "  </thead>\n",
       "  <tbody>\n",
       "    <tr>\n",
       "      <th>Burundi</th>\n",
       "      <td>NaN</td>\n",
       "      <td>71.3</td>\n",
       "      <td>NaN</td>\n",
       "      <td>100.760002</td>\n",
       "    </tr>\n",
       "    <tr>\n",
       "      <th>Benin</th>\n",
       "      <td>7.5</td>\n",
       "      <td>99.8</td>\n",
       "      <td>18.0</td>\n",
       "      <td>103.180000</td>\n",
       "    </tr>\n",
       "    <tr>\n",
       "      <th>Burkina Faso</th>\n",
       "      <td>12.0</td>\n",
       "      <td>104.5</td>\n",
       "      <td>20.0</td>\n",
       "      <td>102.949997</td>\n",
       "    </tr>\n",
       "    <tr>\n",
       "      <th>...</th>\n",
       "      <td>...</td>\n",
       "      <td>...</td>\n",
       "      <td>...</td>\n",
       "      <td>...</td>\n",
       "    </tr>\n",
       "    <tr>\n",
       "      <th>South Africa</th>\n",
       "      <td>4.8</td>\n",
       "      <td>37.6</td>\n",
       "      <td>NaN</td>\n",
       "      <td>103.320000</td>\n",
       "    </tr>\n",
       "    <tr>\n",
       "      <th>Zambia</th>\n",
       "      <td>NaN</td>\n",
       "      <td>68.3</td>\n",
       "      <td>NaN</td>\n",
       "      <td>105.360001</td>\n",
       "    </tr>\n",
       "    <tr>\n",
       "      <th>Zimbabwe</th>\n",
       "      <td>NaN</td>\n",
       "      <td>62.7</td>\n",
       "      <td>11.2</td>\n",
       "      <td>103.180000</td>\n",
       "    </tr>\n",
       "  </tbody>\n",
       "</table>\n",
       "<p>34 rows × 4 columns</p>\n",
       "</div>"
      ],
      "text/plain": [
       "              Undernourishment %  Mort Rate U5 per 1000 births  \\\n",
       "country                                                          \n",
       "Burundi                      NaN                          71.3   \n",
       "Benin                        7.5                          99.8   \n",
       "Burkina Faso                12.0                         104.5   \n",
       "...                          ...                           ...   \n",
       "South Africa                 4.8                          37.6   \n",
       "Zambia                       NaN                          68.3   \n",
       "Zimbabwe                     NaN                          62.7   \n",
       "\n",
       "              % children under 5 underweight  world food production index  \n",
       "country                                                                    \n",
       "Burundi                                  NaN                   100.760002  \n",
       "Benin                                   18.0                   103.180000  \n",
       "Burkina Faso                            20.0                   102.949997  \n",
       "...                                      ...                          ...  \n",
       "South Africa                             NaN                   103.320000  \n",
       "Zambia                                   NaN                   105.360001  \n",
       "Zimbabwe                                11.2                   103.180000  \n",
       "\n",
       "[34 rows x 4 columns]"
      ]
     },
     "execution_count": 5,
     "metadata": {},
     "output_type": "execute_result"
    }
   ],
   "source": [
    "df.columns=[\"Undernourishment %\", \"Mort Rate U5 per 1000 births\", \"% children under 5 underweight\", \"world food production index\" ]\n",
    "df\n"
   ]
  },
  {
   "cell_type": "code",
   "execution_count": 6,
   "id": "be6c1ed3",
   "metadata": {
    "scrolled": true
   },
   "outputs": [
    {
     "data": {
      "text/plain": [
       "<AxesSubplot:title={'center':'Undernourishment by % in 2014'}, xlabel='country'>"
      ]
     },
     "execution_count": 6,
     "metadata": {},
     "output_type": "execute_result"
    },
    {
     "data": {
      "image/png": "[encoded data removed]",
      "text/plain": [
       "<Figure size 432x288 with 1 Axes>"
      ]
     },
     "metadata": {
      "needs_background": "light"
     },
     "output_type": "display_data"
    }
   ],
   "source": [
    "plt.title(\"Undernourishment by % in 2014\")\n",
    "df[\"Undernourishment %\"].plot(kind=\"bar\")"
   ]
  },
  {
   "cell_type": "code",
   "execution_count": null,
   "id": "2a5beb9b",
   "metadata": {},
   "outputs": [],
   "source": []
  },
  {
   "cell_type": "code",
   "execution_count": null,
   "id": "db2504f0",
   "metadata": {},
   "outputs": [],
   "source": []
  },
  {
   "cell_type": "code",
   "execution_count": null,
   "id": "74961753",
   "metadata": {},
   "outputs": [],
   "source": []
  }
 ],
 "metadata": {
  "kernelspec": {
   "display_name": "Python 3 (ipykernel)",
   "language": "python",
   "name": "python3"
  },
  "language_info": {
   "codemirror_mode": {
    "name": "ipython",
    "version": 3
   },
   "file_extension": ".py",
   "mimetype": "text/x-python",
   "name": "python",
   "nbconvert_exporter": "python",
   "pygments_lexer": "ipython3",
   "version": "3.9.7"
  }
 },
 "nbformat": 4,
 "nbformat_minor": 5
}
