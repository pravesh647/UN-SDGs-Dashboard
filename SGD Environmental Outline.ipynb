{
 "cells": [
  {
   "cell_type": "code",
   "execution_count": 1,
   "id": "a6b47809",
   "metadata": {},
   "outputs": [],
   "source": [
    "import requests\n",
    "import bs4\n",
    "from bs4 import BeautifulSoup"
   ]
  },
  {
   "cell_type": "code",
   "execution_count": 2,
   "id": "7fd7324f",
   "metadata": {},
   "outputs": [],
   "source": [
    "# link for global disaster alert and coordiantion system\n",
    "url = 'https://gdacs.org/'\n",
    "worldometer = 'https://worldometers.info'"
   ]
  },
  {
   "cell_type": "code",
   "execution_count": 3,
   "id": "39b555e6",
   "metadata": {},
   "outputs": [],
   "source": [
    "headers = {\n",
    "    'User-Agent': 'Mozilla/5.0 (Windows NT 10.0; Win64; x64) AppleWebKit/537.36 (KHTML, like Gecko) Chrome/100.0.4896.127 Safari/537.36'\n",
    "}"
   ]
  },
  {
   "cell_type": "code",
   "execution_count": 4,
   "id": "f727aea3",
   "metadata": {},
   "outputs": [],
   "source": [
    "r = requests.get(url, {'headers':headers})\n",
    "world = requests.get(worldometer, {'headers':headers})"
   ]
  },
  {
   "cell_type": "code",
   "execution_count": 5,
   "id": "f7ed5f88",
   "metadata": {},
   "outputs": [],
   "source": [
    "soup = bs4.BeautifulSoup(r.text,{'html.parser'})\n",
    "worldsoup = bs4.BeautifulSoup(world.text,{'html.parser'})"
   ]
  },
  {
   "cell_type": "code",
   "execution_count": 6,
   "id": "737a9582",
   "metadata": {},
   "outputs": [],
   "source": [
    "gdacs = soup.find_all()\n",
    "worldtext = worldsoup.find_all()"
   ]
  },
  {
   "cell_type": "code",
   "execution_count": 7,
   "id": "0c4f49d5",
   "metadata": {},
   "outputs": [],
   "source": [
    "# print(gdacs)"
   ]
  },
  {
   "cell_type": "code",
   "execution_count": 8,
   "id": "95c82353",
   "metadata": {},
   "outputs": [],
   "source": [
    "# trees = worldsoup.find_all('div',{'class' : 'counter-title'})\n",
    "# print(trees[2].text)\n",
    "# worldsoup.find_all('div',{'class':'counter-number'})[0].text"
   ]
  },
  {
   "cell_type": "code",
   "execution_count": 9,
   "id": "ae0eca95",
   "metadata": {},
   "outputs": [
    {
     "name": "stdout",
     "output_type": "stream",
     "text": [
      "A List of the Most Recent Earthquakes:\n",
      "\n",
      "\n",
      "Kermadec Islands, New Zealand\n",
      "\r\n",
      "                    (M 5.5) \r\n",
      "                  \r\n",
      "                  -  02 May\r\n",
      "         12:34\n",
      "\n",
      "\n",
      "\n",
      "South Georgia and the South Sandwich Islands\n",
      "\r\n",
      "                    (M 5.6) \r\n",
      "                  \r\n",
      "                  -  02 May\r\n",
      "         06:02\n",
      "\n",
      "\n",
      "\n",
      "Volcano Islands, Japan Region\n",
      "\r\n",
      "                    (M 5.5) \r\n",
      "                  \r\n",
      "                  -  01 May\r\n",
      "         21:57\n",
      "\n",
      "\n",
      "\n",
      "Solomon Islands\n",
      "\r\n",
      "                    (M 5.5) \r\n",
      "                  \r\n",
      "                  -  01 May\r\n",
      "         12:50\n",
      "\n",
      "\n",
      "\n",
      "Central East Pacific Rise\n",
      "\r\n",
      "                    (M 5.6) \r\n",
      "                  \r\n",
      "                  -  29 Apr\r\n",
      "         08:33\n",
      "\n",
      "A List of the Most Recent Tropical Cyclones:\n",
      "A List of the Most Recent Floods:\n",
      "\n",
      "\n",
      "France\n",
      "\r\n",
      "                  -  01 May\r\n",
      "         01:00\n",
      "\n",
      "A List of the Most Recent Volcanoes:\n",
      "A List of the Most Recent Droughts:\n",
      "\n",
      "\n",
      "Hungary-2022\n",
      "\r\n",
      "                  - 15 Weeks\r\n",
      "                \n",
      "\n",
      "A List of the Most Recent Wild Fires:\n",
      "\n",
      "\n",
      "Guinea\n",
      "\r\n",
      "                    (17914 ha) \r\n",
      "                  \r\n",
      "                  -  01 May 2022\n",
      "\n",
      "\n",
      "\n",
      "Laos, Viet Nam\n",
      "\r\n",
      "                    (10523 ha) \r\n",
      "                  \r\n",
      "                  -  30 Apr 2022\n",
      "\n",
      "\n",
      "\n",
      "Myanmar\n",
      "\r\n",
      "                    (11034 ha) \r\n",
      "                  \r\n",
      "                  -  30 Apr 2022\n",
      "\n"
     ]
    }
   ],
   "source": [
    "#prints the most recent earthquakes\n",
    "print('A List of the Most Recent Earthquakes:')\n",
    "\n",
    "earthquakes = soup.find_all('div',{'class':'alert_EQ_Green'})\n",
    "\n",
    "EQiter = len(earthquakes)\n",
    "for i in range(EQiter):\n",
    "    print(earthquakes[i].text)\n",
    "    \n",
    "# prints the most recent tropical cyclones\n",
    "print('A List of the Most Recent Tropical Cyclones:')\n",
    "    \n",
    "tropicalcyclones = soup.find_all('div',{'class':'alert_TC_Green'})\n",
    "\n",
    "TCiter = len(tropicalcyclones)\n",
    "for i in range(TCiter):\n",
    "    print(tropicalcyclones[i].text)\n",
    "\n",
    "# prints the most recent floods\n",
    "print('A List of the Most Recent Floods:')\n",
    "    \n",
    "floods = soup.find_all('div',{'class':'alert_FL_Green'})\n",
    "\n",
    "FLiter = len(floods)\n",
    "for i in range(FLiter):\n",
    "    print(floods[i].text)\n",
    "\n",
    "# prints the most recent volcanoes\n",
    "print('A List of the Most Recent Volcanoes:')\n",
    "    \n",
    "volcanoes = soup.find_all('div',{'class':'alert_VL_Green'})\n",
    "\n",
    "VLiter = len(volcanoes)\n",
    "for i in range(VLiter):\n",
    "    print(volcanoes[i].text)    \n",
    "    \n",
    "# prints the most recent droughts\n",
    "print('A List of the Most Recent Droughts:')\n",
    "    \n",
    "droughts = soup.find_all('div',{'class':'alert_DR_Green'})\n",
    "\n",
    "DLiter = len(droughts)\n",
    "for i in range(DLiter):\n",
    "    print(droughts[i].text)\n",
    "    \n",
    "# prints the most recent forest fires\n",
    "print('A List of the Most Recent Wild Fires:')\n",
    "    \n",
    "forestfires = soup.find_all('div',{'class':'alert_WF_Green'})\n",
    "\n",
    "FFiter = len(forestfires)\n",
    "for i in range(FFiter):\n",
    "    print(forestfires[i].text)\n",
    "# soup.find_all('div',{'class':'alert_item_name_past'})[1].text\n",
    "# soup.find_all('div',{'class':'alert_item_attribute_past'})[1].find('alert_date_past').text\n",
    "\n",
    "    \n",
    "# print(soup.find_all('div',{'class':'alert_box_title'})[0].find_all('a').text)"
   ]
  },
  {
   "cell_type": "code",
   "execution_count": null,
   "id": "614305e9",
   "metadata": {},
   "outputs": [],
   "source": []
  }
 ],
 "metadata": {
  "kernelspec": {
   "display_name": "Python 3",
   "language": "python",
   "name": "python3"
  },
  "language_info": {
   "codemirror_mode": {
    "name": "ipython",
    "version": 3
   },
   "file_extension": ".py",
   "mimetype": "text/x-python",
   "name": "python",
   "nbconvert_exporter": "python",
   "pygments_lexer": "ipython3",
   "version": "3.8.8"
  }
 },
 "nbformat": 4,
 "nbformat_minor": 5
}
