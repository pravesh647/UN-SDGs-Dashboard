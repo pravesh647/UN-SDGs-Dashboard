{
 "cells": [
  {
   "cell_type": "code",
   "execution_count": 27,
   "id": "phantom-ukraine",
   "metadata": {},
   "outputs": [],
   "source": [
    "# Linear Algebra and \n",
    "import numpy as np\n",
    "\n",
    "# Database\n",
    "import pandas as pd\n",
    "\n",
    "# visualization\n",
    "import seaborn as sns\n",
    "import matplotlib.pyplot as plt\n",
    "\n",
    "# getting data\n",
    "import requests\n",
    "from pandas_datareader import wb\n",
    "\n",
    "# Web application\n",
    "# pip install streamlit\n",
    "import streamlit as st"
   ]
  },
  {
   "cell_type": "code",
   "execution_count": 28,
   "id": "ongoing-witness",
   "metadata": {},
   "outputs": [],
   "source": [
    "undernourishment=\"SN.ITK.DEFC.ZS\""
   ]
  },
  {
   "cell_type": "code",
   "execution_count": 29,
   "id": "logical-living",
   "metadata": {},
   "outputs": [],
   "source": [
    "year = \"2014\"\n",
    "df1=wb.download(indicator=undernourishment, country=\"all\", start=year,end=year).reset_index()\n",
    "df1 = df1.drop(\"country\", axis =1).rename(columns = {undernourishment:\"value\"})\n",
    "\n",
    "year = \"2015\"\n",
    "df2=wb.download(indicator=undernourishment, country=\"all\", start=year,end=year).reset_index()\n",
    "df2 = df2.drop(\"country\", axis =1).rename(columns = {undernourishment:\"value\"})\n",
    "\n",
    "year = \"2016\"\n",
    "df3=wb.download(indicator=undernourishment, country=\"all\", start=year,end=year).reset_index()\n",
    "df3 = df3.drop(\"country\", axis =1).rename(columns = {undernourishment:\"value\"})\n",
    "\n",
    "year = \"2017\"\n",
    "df4=wb.download(indicator=undernourishment, country=\"all\", start=year,end=year).reset_index()\n",
    "df4 = df4.drop(\"country\", axis =1).rename(columns = {undernourishment:\"value\"})\n",
    "\n",
    "year = \"2018\"\n",
    "df5=wb.download(indicator=undernourishment, country=\"all\", start=year,end=year).reset_index()\n",
    "df5 = df5.drop(\"country\", axis =1).rename(columns = {undernourishment:\"value\"})\n",
    "\n",
    "year = \"2019\"\n",
    "df6=wb.download(indicator=undernourishment, country=\"all\", start=year,end=year).reset_index()\n",
    "df6 = df6.drop(\"country\", axis =1).rename(columns = {undernourishment:\"value\"})"
   ]
  },
  {
   "cell_type": "code",
   "execution_count": 30,
   "id": "wireless-pursuit",
   "metadata": {
    "id": "gKCI1LP5IH2h"
   },
   "outputs": [],
   "source": [
    "hunger = df1.append(df2).append(df3).append(df4).append(df5).append(df6).dropna()"
   ]
  },
  {
   "cell_type": "code",
   "execution_count": 31,
   "id": "freelance-logan",
   "metadata": {},
   "outputs": [
    {
     "data": {
      "text/html": [
       "<div>\n",
       "<style scoped>\n",
       "    .dataframe tbody tr th:only-of-type {\n",
       "        vertical-align: middle;\n",
       "    }\n",
       "\n",
       "    .dataframe tbody tr th {\n",
       "        vertical-align: top;\n",
       "    }\n",
       "\n",
       "    .dataframe thead th {\n",
       "        text-align: right;\n",
       "    }\n",
       "</style>\n",
       "<table border=\"1\" class=\"dataframe\">\n",
       "  <thead>\n",
       "    <tr style=\"text-align: right;\">\n",
       "      <th></th>\n",
       "      <th>year</th>\n",
       "      <th>value</th>\n",
       "    </tr>\n",
       "  </thead>\n",
       "  <tbody>\n",
       "    <tr>\n",
       "      <th>0</th>\n",
       "      <td>2014</td>\n",
       "      <td>23.221891</td>\n",
       "    </tr>\n",
       "    <tr>\n",
       "      <th>1</th>\n",
       "      <td>2014</td>\n",
       "      <td>11.919088</td>\n",
       "    </tr>\n",
       "    <tr>\n",
       "      <th>2</th>\n",
       "      <td>2014</td>\n",
       "      <td>13.074471</td>\n",
       "    </tr>\n",
       "    <tr>\n",
       "      <th>3</th>\n",
       "      <td>2014</td>\n",
       "      <td>7.927996</td>\n",
       "    </tr>\n",
       "    <tr>\n",
       "      <th>4</th>\n",
       "      <td>2014</td>\n",
       "      <td>2.709416</td>\n",
       "    </tr>\n",
       "    <tr>\n",
       "      <th>...</th>\n",
       "      <td>...</td>\n",
       "      <td>...</td>\n",
       "    </tr>\n",
       "    <tr>\n",
       "      <th>257</th>\n",
       "      <td>2019</td>\n",
       "      <td>2.500000</td>\n",
       "    </tr>\n",
       "    <tr>\n",
       "      <th>258</th>\n",
       "      <td>2019</td>\n",
       "      <td>9.300000</td>\n",
       "    </tr>\n",
       "    <tr>\n",
       "      <th>259</th>\n",
       "      <td>2019</td>\n",
       "      <td>27.400000</td>\n",
       "    </tr>\n",
       "    <tr>\n",
       "      <th>260</th>\n",
       "      <td>2019</td>\n",
       "      <td>6.700000</td>\n",
       "    </tr>\n",
       "    <tr>\n",
       "      <th>263</th>\n",
       "      <td>2019</td>\n",
       "      <td>45.400000</td>\n",
       "    </tr>\n",
       "  </tbody>\n",
       "</table>\n",
       "<p>1254 rows × 2 columns</p>\n",
       "</div>"
      ],
      "text/plain": [
       "     year      value\n",
       "0    2014  23.221891\n",
       "1    2014  11.919088\n",
       "2    2014  13.074471\n",
       "3    2014   7.927996\n",
       "4    2014   2.709416\n",
       "..    ...        ...\n",
       "257  2019   2.500000\n",
       "258  2019   9.300000\n",
       "259  2019  27.400000\n",
       "260  2019   6.700000\n",
       "263  2019  45.400000\n",
       "\n",
       "[1254 rows x 2 columns]"
      ]
     },
     "execution_count": 31,
     "metadata": {},
     "output_type": "execute_result"
    }
   ],
   "source": [
    "hunger"
   ]
  },
  {
   "cell_type": "code",
   "execution_count": 35,
   "id": "oriental-fluid",
   "metadata": {},
   "outputs": [
    {
     "data": {
      "text/plain": [
       "array(['2014', '2014', '2014', ..., '2019', '2019', '2019'], dtype=object)"
      ]
     },
     "execution_count": 35,
     "metadata": {},
     "output_type": "execute_result"
    }
   ],
   "source": [
    "np.array(hunger[\"year\"])"
   ]
  },
  {
   "cell_type": "code",
   "execution_count": 107,
   "id": "clear-pittsburgh",
   "metadata": {
    "scrolled": true
   },
   "outputs": [
    {
     "name": "stderr",
     "output_type": "stream",
     "text": [
      "/Users/pravesh/opt/anaconda3/envs/ML/lib/python3.7/site-packages/seaborn/axisgrid.py:88: UserWarning: Tight layout not applied. tight_layout cannot make axes height small enough to accommodate all axes decorations\n",
      "  self._figure.tight_layout(*args, **kwargs)\n",
      "/Users/pravesh/opt/anaconda3/envs/ML/lib/python3.7/site-packages/seaborn/axisgrid.py:88: UserWarning: Tight layout not applied. tight_layout cannot make axes height small enough to accommodate all axes decorations\n",
      "  self._figure.tight_layout(*args, **kwargs)\n"
     ]
    },
    {
     "data": {
      "text/plain": [
       "<seaborn.axisgrid.FacetGrid at 0x7fc29ad7db50>"
      ]
     },
     "execution_count": 107,
     "metadata": {},
     "output_type": "execute_result"
    },
    {
     "data": {
      "image/png": "[encoded data removed]",
      "text/plain": [
       "<Figure size 540x216 with 6 Axes>"
      ]
     },
     "metadata": {},
     "output_type": "display_data"
    }
   ],
   "source": [
    "sns.set_theme(style=\"white\", rc={\"axes.facecolor\": (0, 0, 0, 0)})\n",
    "\n",
    "# Initialize the FacetGrid object\n",
    "pal = sns.cubehelix_palette(6, rot=2, light=.8)\n",
    "plot = sns.FacetGrid(hunger, row=\"year\", hue=\"year\", aspect=15, height=.5, palette=pal)\n",
    "\n",
    "# Draw the densities in a few steps\n",
    "plot.map(sns.kdeplot, \"value\",\n",
    "      bw_adjust=.5, clip_on=False,\n",
    "      fill=True, alpha=1, linewidth=1.5)\n",
    "plot.map(sns.kdeplot, \"value\", clip_on=False, color=\"w\", lw=1, bw_adjust=.5)\n",
    "\n",
    "# passing color=None to refline() uses the hue mapping\n",
    "plot.refline(y=0, linewidth=2, linestyle=\"-\", color=None, clip_on=False)\n",
    "\n",
    "# Define and use a simple function to label the plot in axes coordinates\n",
    "def label(x, color, label):\n",
    "    ax = plt.gca()\n",
    "    ax.text(0, .2, label, fontweight=\"bold\", color=color,\n",
    "            ha=\"left\", va=\"center\", transform=ax.transAxes)\n",
    "    \n",
    "\n",
    "plot.map(label, \"value\")\n",
    "\n",
    "# Set the subplots to overlap\n",
    "plot.figure.subplots_adjust(hspace=-.25)\n",
    "\n",
    "# Remove axes details that don't play well with overlap\n",
    "plot.set_titles(\"\")\n",
    "plot.set(yticks=[], ylabel=\"\")\n",
    "plot.set(xlabel=\"World Hunger\")\n",
    "plot.despine(bottom=True, left=True)"
   ]
  },
  {
   "cell_type": "code",
   "execution_count": null,
   "id": "happy-enhancement",
   "metadata": {},
   "outputs": [],
   "source": []
  }
 ],
 "metadata": {
  "kernelspec": {
   "display_name": "Python 3",
   "language": "python",
   "name": "python3"
  },
  "language_info": {
   "codemirror_mode": {
    "name": "ipython",
    "version": 3
   },
   "file_extension": ".py",
   "mimetype": "text/x-python",
   "name": "python",
   "nbconvert_exporter": "python",
   "pygments_lexer": "ipython3",
   "version": "3.7.10"
  }
 },
 "nbformat": 4,
 "nbformat_minor": 5
}
